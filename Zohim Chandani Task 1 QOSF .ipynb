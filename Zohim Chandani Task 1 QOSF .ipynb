{
 "cells": [
  {
   "cell_type": "code",
   "execution_count": 1,
   "metadata": {},
   "outputs": [
    {
     "data": {
      "application/javascript": [
       "if (!(\"Notification\" in window)) {\n",
       "    alert(\"This browser does not support desktop notifications, so the %%notify magic will not work.\");\n",
       "} else if (Notification.permission !== 'granted' && Notification.permission !== 'denied') {\n",
       "    Notification.requestPermission(function (permission) {\n",
       "        if(!('permission' in Notification)) {\n",
       "            Notification.permission = permission;\n",
       "        }\n",
       "    })\n",
       "}\n"
      ],
      "text/plain": [
       "<IPython.core.display.Javascript object>"
      ]
     },
     "metadata": {},
     "output_type": "display_data"
    }
   ],
   "source": [
    "%load_ext jupyternotify\n",
    "import pennylane as qml \n",
    "from pennylane import numpy as np\n",
    "import tensorflow as tf\n",
    "import matplotlib.pyplot as plt"
   ]
  },
  {
   "cell_type": "code",
   "execution_count": 2,
   "metadata": {},
   "outputs": [],
   "source": [
    "n_wires = 4 #4 qubits \n",
    "\n",
    "dev = qml.device('default.qubit.tf', wires= n_wires)\n",
    "dev1 = qml.device('default.qubit.tf', wires= n_wires)"
   ]
  },
  {
   "cell_type": "code",
   "execution_count": 3,
   "metadata": {},
   "outputs": [],
   "source": [
    "#geneate the random 4 qubit statevector phi \n",
    "@qml.qnode(dev, interface=\"tf\")\n",
    "def phi_circ(weights): \n",
    "    \n",
    "    for i in range(4):\n",
    "        \n",
    "        qml.RX(weights[i], wires=i)\n",
    "        qml.RY(weights[4+i], wires=i)\n",
    "        qml.RZ(weights[8+i], wires=i)\n",
    "    \n",
    "    return [qml.expval(qml.Identity(wires=i)) for i in range(n_wires)]\n",
    "\n",
    "\n",
    "random  = tf.constant( np.random.uniform(0, 2*np.pi, 12)  )\n",
    "phi_circ(random)\n",
    "phi = tf.dtypes.cast(dev.state, tf.complex128)"
   ]
  },
  {
   "cell_type": "code",
   "execution_count": 4,
   "metadata": {},
   "outputs": [],
   "source": [
    "#defined layer of odd and even blocks \n",
    "@qml.template\n",
    "def layer(weights, wires):\n",
    "    \n",
    "    for i in range(4):   \n",
    "        qml.RX(weights[i], wires=i)\n",
    "        \n",
    "    for i in range(4):    \n",
    "        qml.RZ(weights[4+i], wires=i)\n",
    "    \n",
    "    qml.CZ(wires=[0,1])\n",
    "    qml.CZ(wires=[0,2])\n",
    "    qml.CZ(wires=[0,3])\n",
    "    qml.CZ(wires=[1,2])\n",
    "    qml.CZ(wires=[1,3])\n",
    "    qml.CZ(wires=[2,3])\n"
   ]
  },
  {
   "cell_type": "code",
   "execution_count": 5,
   "metadata": {},
   "outputs": [],
   "source": [
    "#make a qnode with the number of layers as a varying parameter \n",
    "#this generates the 4 qubit statevector psi \n",
    "\n",
    "@qml.qnode(dev1, interface=\"tf\")    \n",
    "def psi_circ(thetas): \n",
    "\n",
    "    for i in range(n_layers):\n",
    "        layer(weights = thetas, wires= range(n_wires) )\n",
    "\n",
    "    return [qml.expval(qml.Identity(wires=i)) for i in range(n_wires)]\n"
   ]
  },
  {
   "cell_type": "code",
   "execution_count": 6,
   "metadata": {},
   "outputs": [],
   "source": [
    "#define the loss function which is to be minimised \n",
    "def eplison(thetas):\n",
    "    \n",
    "    psi_circ(thetas)\n",
    "    psi = dev1.state\n",
    "    \n",
    "    e = tf.math.sqrt(tf.tensordot(tf.math.conj(psi - phi), psi - phi, axes=1))\n",
    "    \n",
    "    return tf.math.real(e)"
   ]
  },
  {
   "cell_type": "code",
   "execution_count": 7,
   "metadata": {},
   "outputs": [
    {
     "data": {
      "text/plain": [
       "Text(0, 0.5, 'Eplison')"
      ]
     },
     "execution_count": 7,
     "metadata": {},
     "output_type": "execute_result"
    },
    {
     "data": {
      "image/png": "[encoded data removed]",
      "text/plain": [
       "<Figure size 720x360 with 1 Axes>"
      ]
     },
     "metadata": {
      "needs_background": "light"
     },
     "output_type": "display_data"
    },
    {
     "data": {
      "application/javascript": [
       "$(document).ready(\n",
       "    function() {\n",
       "        function appendUniqueDiv(){\n",
       "            // append a div with our uuid so we can check that it's already\n",
       "            // been sent and avoid duplicates on page reload\n",
       "            var notifiedDiv = document.createElement(\"div\")\n",
       "            notifiedDiv.id = \"ccff2c66-1c1c-4fee-a4fc-1461fd7b32e2\"\n",
       "            element.append(notifiedDiv)\n",
       "        }\n",
       "\n",
       "        // only send notifications if the pageload is complete; this will\n",
       "        // help stop extra notifications when a saved notebook is loaded,\n",
       "        // which during testing gives us state \"interactive\", not \"complete\"\n",
       "        if (document.readyState === 'complete') {\n",
       "            // check for the div that signifies that the notification\n",
       "            // was already sent\n",
       "            if (document.getElementById(\"ccff2c66-1c1c-4fee-a4fc-1461fd7b32e2\") === null) {\n",
       "                var notificationPayload = {\"requireInteraction\": false, \"icon\": \"/static/base/images/favicon.ico\", \"body\": \"Cell execution has finished!\"};\n",
       "                if (Notification.permission !== 'denied') {\n",
       "                    if (Notification.permission !== 'granted') { \n",
       "                        Notification.requestPermission(function (permission) {\n",
       "                            if(!('permission' in Notification)) {\n",
       "                                Notification.permission = permission\n",
       "                            }\n",
       "                        })\n",
       "                    }\n",
       "                    if (Notification.permission === 'granted') {\n",
       "                    var notification = new Notification(\"Jupyter Notebook\", notificationPayload)\n",
       "                    appendUniqueDiv()\n",
       "                    notification.onclick = function () {\n",
       "                        window.focus();\n",
       "                        this.close();\n",
       "                        };\n",
       "                    } \n",
       "                }     \n",
       "            }\n",
       "        }\n",
       "    }\n",
       ")\n"
      ],
      "text/plain": [
       "<IPython.core.display.Javascript object>"
      ]
     },
     "metadata": {},
     "output_type": "display_data"
    },
    {
     "name": "stdout",
     "output_type": "stream",
     "text": [
      "CPU times: user 10min 4s, sys: 214 ms, total: 10min 5s\n",
      "Wall time: 10min 4s\n"
     ]
    }
   ],
   "source": [
    "%%time\n",
    "%%notify\n",
    "\n",
    "#answer to task 1\n",
    "\n",
    "opt = tf.keras.optimizers.Adam(learning_rate=0.001)\n",
    "\n",
    "e = [] #minimum eplison \n",
    "\n",
    "#change the number of layers in each iteration \n",
    "for k in range(10):\n",
    "    n_layers = k+1\n",
    "\n",
    "    init_thetas = np.random.uniform(0, 2*np.pi, 8*n_layers)\n",
    "    thetas = tf.Variable(init_thetas)\n",
    "\n",
    "    eplison(thetas)\n",
    "\n",
    "    diff_in_cost = [0,1] #initialise array with dummy values to start while loop \n",
    "\n",
    "    i = 0 \n",
    "    while abs(diff_in_cost[i+1] - diff_in_cost[i]) > 1e-4: #continue to minimise the loss until the difference between successive values is > 10^(-4)\n",
    "\n",
    "        cost = lambda: eplison(thetas)\n",
    "        opt.minimize(cost, thetas)\n",
    "        diff_in_cost.append(cost().numpy())\n",
    "        i += 1\n",
    "\n",
    "    e.append(diff_in_cost[-1])\n",
    "     \n",
    "        \n",
    "\n",
    "fig, (ax1) = plt.subplots(1, 1, figsize=(10,5))\n",
    "\n",
    "y = e\n",
    "x =list(range(1, len(y)+1))\n",
    "\n",
    "ax1.plot(x,y)\n",
    "\n",
    "ax1.set_xlabel('Number of layers')\n",
    "ax1.set_ylabel('Eplison')"
   ]
  },
  {
   "cell_type": "code",
   "execution_count": 8,
   "metadata": {},
   "outputs": [],
   "source": [
    "#bonus task - one could also define a layer with other gates to compare results \n",
    "#below is a layer with different gates\n",
    "\n",
    "@qml.template\n",
    "def bonus_layer(weights, wires):\n",
    "    \n",
    "    for i in range(4):   \n",
    "        qml.RY(weights[i], wires=i)\n",
    "        \n",
    "    for i in range(4):    \n",
    "        qml.RX(weights[4+i], wires=i)\n",
    "    \n",
    "    qml.CNOT(wires=[0,1])\n",
    "    qml.CNOT(wires=[0,2])\n",
    "    qml.CNOT(wires=[0,3])\n",
    "    qml.CNOT(wires=[1,2])\n",
    "    qml.CNOT(wires=[1,3])\n",
    "    qml.CNOT(wires=[2,3])\n"
   ]
  },
  {
   "cell_type": "code",
   "execution_count": null,
   "metadata": {
    "scrolled": false
   },
   "outputs": [],
   "source": [
    "%%time\n",
    "%%notify\n",
    "\n",
    "#code to check which optimiser to use\n",
    "#I used a hard search method by cycling over all optimisers to check for one which outputs sensible results \n",
    "\n",
    "opt_list = [ tf.keras.optimizers.Adadelta(learning_rate=0.001), \n",
    "            tf.keras.optimizers.Adagrad(learning_rate=0.001), \n",
    "            tf.keras.optimizers.Adam(learning_rate=0.001), \n",
    "            tf.keras.optimizers.Adamax(learning_rate=0.001), \n",
    "            tf.keras.optimizers.Ftrl(learning_rate=0.001), \n",
    "            tf.keras.optimizers.Nadam(learning_rate=0.001), \n",
    "            tf.keras.optimizers.SGD(learning_rate=0.001), \n",
    "            tf.keras.optimizers.RMSprop(learning_rate=0.001)]\n",
    "\n",
    "for opt in opt_list:\n",
    "   \n",
    "\n",
    "    e = [] #minimum eplison \n",
    "\n",
    "    #iteratively change the number of layers \n",
    "    for k in range(5):\n",
    "        n_layers = k+1\n",
    "\n",
    "        init_thetas = np.random.uniform(0, 2*np.pi, 8*n_layers)\n",
    "        thetas = tf.Variable(init_thetas)\n",
    "\n",
    "        eplison(thetas)\n",
    "\n",
    "        diff_in_cost = [0,1]\n",
    "\n",
    "        i = 0 \n",
    "        while abs(diff_in_cost[i+1] - diff_in_cost[i]) > 1e-4: #continue to minimise the loss until the difference between successive values is > 10^(-4)\n",
    "\n",
    "            cost = lambda: eplison(thetas)\n",
    "            opt.minimize(cost, thetas)\n",
    "            diff_in_cost.append(cost().numpy())\n",
    "            i += 1\n",
    "\n",
    "        e.append(diff_in_cost[-1])\n",
    "\n",
    "\n",
    "    fig, (ax1) = plt.subplots(1, 1, figsize=(10,5))\n",
    "\n",
    "    y = e\n",
    "    x =list(range(1, len(y)+1))\n",
    "\n",
    "\n",
    "    ax1.plot(x,y)\n",
    "\n",
    "    ax1.set_xlabel('Number of layers')\n",
    "    ax1.set_ylabel('Eplison')"
   ]
  },
  {
   "cell_type": "code",
   "execution_count": null,
   "metadata": {},
   "outputs": [],
   "source": []
  }
 ],
 "metadata": {
  "kernelspec": {
   "display_name": "Python 3",
   "language": "python",
   "name": "python3"
  },
  "language_info": {
   "codemirror_mode": {
    "name": "ipython",
    "version": 3
   },
   "file_extension": ".py",
   "mimetype": "text/x-python",
   "name": "python",
   "nbconvert_exporter": "python",
   "pygments_lexer": "ipython3",
   "version": "3.7.6"
  }
 },
 "nbformat": 4,
 "nbformat_minor": 4
}
